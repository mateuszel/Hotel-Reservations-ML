{
 "cells": [
  {
   "cell_type": "markdown",
   "metadata": {},
   "source": [
    "### A look into Hotel Reservations dataset"
   ]
  },
  {
   "cell_type": "code",
   "execution_count": 13,
   "metadata": {},
   "outputs": [
    {
     "name": "stdout",
     "output_type": "stream",
     "text": [
      "<class 'pandas.core.frame.DataFrame'>\n",
      "RangeIndex: 36275 entries, 0 to 36274\n",
      "Data columns (total 19 columns):\n",
      " #   Column                                Non-Null Count  Dtype  \n",
      "---  ------                                --------------  -----  \n",
      " 0   Booking_ID                            36275 non-null  object \n",
      " 1   no_of_adults                          36275 non-null  int64  \n",
      " 2   no_of_children                        36275 non-null  int64  \n",
      " 3   no_of_weekend_nights                  36275 non-null  int64  \n",
      " 4   no_of_week_nights                     36275 non-null  int64  \n",
      " 5   type_of_meal_plan                     36275 non-null  object \n",
      " 6   required_car_parking_space            36275 non-null  int64  \n",
      " 7   room_type_reserved                    36275 non-null  object \n",
      " 8   lead_time                             36275 non-null  int64  \n",
      " 9   arrival_year                          36275 non-null  int64  \n",
      " 10  arrival_month                         36275 non-null  int64  \n",
      " 11  arrival_date                          36275 non-null  int64  \n",
      " 12  market_segment_type                   36275 non-null  object \n",
      " 13  repeated_guest                        36275 non-null  int64  \n",
      " 14  no_of_previous_cancellations          36275 non-null  int64  \n",
      " 15  no_of_previous_bookings_not_canceled  36275 non-null  int64  \n",
      " 16  avg_price_per_room                    36275 non-null  float64\n",
      " 17  no_of_special_requests                36275 non-null  int64  \n",
      " 18  booking_status                        36275 non-null  object \n",
      "dtypes: float64(1), int64(13), object(5)\n",
      "memory usage: 5.3+ MB\n",
      "None\n"
     ]
    }
   ],
   "source": [
    "import pandas as pd\n",
    "import matplotlib.pyplot as plt\n",
    "import seaborn as sns\n",
    "import numpy as np\n",
    "import random\n",
    "\n",
    "random.seed(997)\n",
    "df = pd.read_csv('hotel-reservations.csv')\n",
    "print(df.info())"
   ]
  },
  {
   "cell_type": "markdown",
   "metadata": {},
   "source": [
    "We can see that there are no missing values. "
   ]
  },
  {
   "cell_type": "code",
   "execution_count": 14,
   "metadata": {},
   "outputs": [
    {
     "name": "stdout",
     "output_type": "stream",
     "text": [
      "      Booking_ID  no_of_adults  no_of_children  no_of_weekend_nights  \\\n",
      "0       INN00001             2               0                     1   \n",
      "1       INN00002             2               0                     2   \n",
      "2       INN00003             1               0                     2   \n",
      "3       INN00004             2               0                     0   \n",
      "4       INN00005             2               0                     1   \n",
      "...          ...           ...             ...                   ...   \n",
      "36270   INN36271             3               0                     2   \n",
      "36271   INN36272             2               0                     1   \n",
      "36272   INN36273             2               0                     2   \n",
      "36273   INN36274             2               0                     0   \n",
      "36274   INN36275             2               0                     1   \n",
      "\n",
      "       no_of_week_nights type_of_meal_plan  required_car_parking_space  \\\n",
      "0                      2       Meal Plan 1                           0   \n",
      "1                      3      Not Selected                           0   \n",
      "2                      1       Meal Plan 1                           0   \n",
      "3                      2       Meal Plan 1                           0   \n",
      "4                      1      Not Selected                           0   \n",
      "...                  ...               ...                         ...   \n",
      "36270                  6       Meal Plan 1                           0   \n",
      "36271                  3       Meal Plan 1                           0   \n",
      "36272                  6       Meal Plan 1                           0   \n",
      "36273                  3      Not Selected                           0   \n",
      "36274                  2       Meal Plan 1                           0   \n",
      "\n",
      "      room_type_reserved  lead_time  arrival_year  arrival_month  \\\n",
      "0            Room_Type 1        224          2017             10   \n",
      "1            Room_Type 1          5          2018             11   \n",
      "2            Room_Type 1          1          2018              2   \n",
      "3            Room_Type 1        211          2018              5   \n",
      "4            Room_Type 1         48          2018              4   \n",
      "...                  ...        ...           ...            ...   \n",
      "36270        Room_Type 4         85          2018              8   \n",
      "36271        Room_Type 1        228          2018             10   \n",
      "36272        Room_Type 1        148          2018              7   \n",
      "36273        Room_Type 1         63          2018              4   \n",
      "36274        Room_Type 1        207          2018             12   \n",
      "\n",
      "       arrival_date market_segment_type  repeated_guest  \\\n",
      "0                 2             Offline               0   \n",
      "1                 6              Online               0   \n",
      "2                28              Online               0   \n",
      "3                20              Online               0   \n",
      "4                11              Online               0   \n",
      "...             ...                 ...             ...   \n",
      "36270             3              Online               0   \n",
      "36271            17              Online               0   \n",
      "36272             1              Online               0   \n",
      "36273            21              Online               0   \n",
      "36274            30             Offline               0   \n",
      "\n",
      "       no_of_previous_cancellations  no_of_previous_bookings_not_canceled  \\\n",
      "0                                 0                                     0   \n",
      "1                                 0                                     0   \n",
      "2                                 0                                     0   \n",
      "3                                 0                                     0   \n",
      "4                                 0                                     0   \n",
      "...                             ...                                   ...   \n",
      "36270                             0                                     0   \n",
      "36271                             0                                     0   \n",
      "36272                             0                                     0   \n",
      "36273                             0                                     0   \n",
      "36274                             0                                     0   \n",
      "\n",
      "       avg_price_per_room  no_of_special_requests booking_status  \n",
      "0                   65.00                       0   Not_Canceled  \n",
      "1                  106.68                       1   Not_Canceled  \n",
      "2                   60.00                       0       Canceled  \n",
      "3                  100.00                       0       Canceled  \n",
      "4                   94.50                       0       Canceled  \n",
      "...                   ...                     ...            ...  \n",
      "36270              167.80                       1   Not_Canceled  \n",
      "36271               90.95                       2       Canceled  \n",
      "36272               98.39                       2   Not_Canceled  \n",
      "36273               94.50                       0       Canceled  \n",
      "36274              161.67                       0   Not_Canceled  \n",
      "\n",
      "[36275 rows x 19 columns]\n"
     ]
    }
   ],
   "source": [
    "print(df)"
   ]
  },
  {
   "cell_type": "markdown",
   "metadata": {},
   "source": [
    "Now let's transform 'booking_status' column so it contains boolean values. \\\n",
    "1 - not canceled\\\n",
    "0 - canceled\n"
   ]
  },
  {
   "cell_type": "code",
   "execution_count": 15,
   "metadata": {},
   "outputs": [],
   "source": [
    "for index, row in df.iterrows():\n",
    "    if row['booking_status']=='Canceled':\n",
    "        df.at[index, 'booking_status'] = 0\n",
    "    else:\n",
    "        df.at[index, 'booking_status'] = 1"
   ]
  },
  {
   "cell_type": "code",
   "execution_count": 16,
   "metadata": {},
   "outputs": [
    {
     "data": {
      "image/png": "[encoded data removed]",
      "text/plain": [
       "<Figure size 640x480 with 1 Axes>"
      ]
     },
     "metadata": {},
     "output_type": "display_data"
    }
   ],
   "source": [
    "pivot_table1 = pd.pivot_table(data=df[df['booking_status']==1], values='booking_status', index='arrival_year', aggfunc='sum')\n",
    "pivot_table0 = pd.pivot_table(data=df[df['booking_status']==0], values='booking_status', index='arrival_year', aggfunc='count')\n",
    "pivot_table1.reset_index()\n",
    "pivot_table0.reset_index()\n",
    "sns.barplot(data=pivot_table0, x='arrival_year', y='booking_status', color='blue', label='Canceled')\n",
    "sns.barplot(data=pivot_table1, x='arrival_year', y='booking_status', color='green', label='Not canceled', alpha=0.5)\n",
    "plt.xlabel('Arrival Year')\n",
    "plt.ylabel('Count')\n",
    "plt.legend()\n",
    "plt.show()\n"
   ]
  },
  {
   "cell_type": "markdown",
   "metadata": {},
   "source": [
    "Small amount of reservations was canceled in 2017. Over a half of reservations was canceled in 2018\n",
    "Let's fix the data in columns that contain objects.\n"
   ]
  },
  {
   "cell_type": "code",
   "execution_count": 17,
   "metadata": {},
   "outputs": [
    {
     "name": "stdout",
     "output_type": "stream",
     "text": [
      "Room types: ['1' '4' '2' '6' '5' '7' '3']\n",
      "Meal plans: ['1' nan '2' '3']\n",
      "type_of_meal_plan\n",
      "1    27835\n",
      "2     3305\n",
      "3        5\n",
      "Name: count, dtype: int64\n"
     ]
    }
   ],
   "source": [
    "for index, row in df.iterrows():\n",
    "    df.at[index, 'room_type_reserved'] = df.at[index, 'room_type_reserved'][-1]\n",
    "    # Let's set all Unselected ones to NaN for now\n",
    "    if type(df.at[index, 'type_of_meal_plan'])!=float:\n",
    "        df.at[index, 'type_of_meal_plan'] = df.at[index, 'type_of_meal_plan'][-1]\n",
    "        if df.at[index, 'type_of_meal_plan'] == 'd':\n",
    "            df.at[index, 'type_of_meal_plan'] = np.nan\n",
    "   \n",
    "print(f\"Room types: {df['room_type_reserved'].unique()}\")\n",
    "print(f\"Meal plans: {df['type_of_meal_plan'].unique()}\")\n",
    "print(df['type_of_meal_plan'].value_counts())"
   ]
  },
  {
   "cell_type": "markdown",
   "metadata": {},
   "source": [
    "Replace NaN's with most probable values"
   ]
  },
  {
   "cell_type": "code",
   "execution_count": 18,
   "metadata": {},
   "outputs": [
    {
     "name": "stdout",
     "output_type": "stream",
     "text": [
      "type_of_meal_plan\n",
      "1    32406\n",
      "2     3864\n",
      "3        5\n",
      "Name: count, dtype: int64\n"
     ]
    }
   ],
   "source": [
    "\n",
    "non_nans = df['type_of_meal_plan'].dropna().values\n",
    "test = df['type_of_meal_plan'].isna()\n",
    "df.loc[test, 'type_of_meal_plan'] = np.random.choice(non_nans, size=test.sum())\n",
    "print(df['type_of_meal_plan'].value_counts())"
   ]
  }
 ],
 "metadata": {
  "kernelspec": {
   "display_name": "Python 3",
   "language": "python",
   "name": "python3"
  },
  "language_info": {
   "codemirror_mode": {
    "name": "ipython",
    "version": 3
   },
   "file_extension": ".py",
   "mimetype": "text/x-python",
   "name": "python",
   "nbconvert_exporter": "python",
   "pygments_lexer": "ipython3",
   "version": "3.9.6"
  }
 },
 "nbformat": 4,
 "nbformat_minor": 2
}
